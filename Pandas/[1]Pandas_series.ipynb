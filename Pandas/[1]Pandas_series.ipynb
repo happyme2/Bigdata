{
 "cells": [
  {
   "cell_type": "markdown",
   "id": "dcb1c153",
   "metadata": {},
   "source": [
    "# Series (시리즈)의 개념"
   ]
  },
  {
   "cell_type": "markdown",
   "id": "f1b3d9a1",
   "metadata": {},
   "source": [
    "# Pandas 라이브러리 import 하기"
   ]
  },
  {
   "cell_type": "code",
   "execution_count": 1,
   "id": "4d17d1b4",
   "metadata": {},
   "outputs": [
    {
     "data": {
      "text/plain": [
       "[3, 5, 1, 2]"
      ]
     },
     "execution_count": 1,
     "metadata": {},
     "output_type": "execute_result"
    }
   ],
   "source": [
    "# Python의 리스트(list) 타입의 데이터 생성하기\n",
    "data = [3,5,1,2]\n",
    "data"
   ]
  },
  {
   "cell_type": "code",
   "execution_count": 4,
   "id": "c2a1c0fa",
   "metadata": {},
   "outputs": [
    {
     "data": {
      "text/plain": [
       "0    3\n",
       "1    5\n",
       "2    1\n",
       "dtype: int64"
      ]
     },
     "execution_count": 4,
     "metadata": {},
     "output_type": "execute_result"
    }
   ],
   "source": [
    "# Pandas의 Series 타입의 데이터 생성하기\n",
    "pandas.Series([3,5,1])"
   ]
  },
  {
   "cell_type": "code",
   "execution_count": 5,
   "id": "2ee1bfbb",
   "metadata": {},
   "outputs": [],
   "source": [
    "# pandas 라이브러리 임포트하기(1)\n",
    "import pandas"
   ]
  },
  {
   "cell_type": "code",
   "execution_count": 6,
   "id": "1e93c3b3",
   "metadata": {},
   "outputs": [],
   "source": [
    "# pandas 라이브러리 임포트하기(2) - 별칭\n",
    "import pandas as pd"
   ]
  },
  {
   "cell_type": "code",
   "execution_count": 4,
   "id": "4537ee78",
   "metadata": {},
   "outputs": [
    {
     "data": {
      "text/plain": [
       "0    3\n",
       "1    5\n",
       "2    1\n",
       "3    2\n",
       "dtype: int64"
      ]
     },
     "execution_count": 4,
     "metadata": {},
     "output_type": "execute_result"
    }
   ],
   "source": [
    "# pandas 라이브러리 임포트하기(3)\n",
    "from pandas import Series\n",
    "Series([3,5,1,2])"
   ]
  },
  {
   "cell_type": "markdown",
   "id": "13748e54",
   "metadata": {},
   "source": [
    "# Series 생성\n",
    "- 1차원 데이터를 저장하는 파이썬의 데이터타입인 리스트, 튜플, 사전 타입 등을 이용해서 Series 객체를 생성해 보고, Series 객체의 특징들을 살펴보도록 하겠습니다."
   ]
  },
  {
   "cell_type": "markdown",
   "id": "4b4f6ec2",
   "metadata": {},
   "source": [
    "## 1) List를 사용하여 Series 생성하기"
   ]
  },
  {
   "cell_type": "code",
   "execution_count": 11,
   "id": "01d815a2",
   "metadata": {},
   "outputs": [],
   "source": [
    "arr = [3,5,1,2] # 파이썬의 리스트 타입 변수\n",
    "data1= Series(arr)"
   ]
  },
  {
   "cell_type": "code",
   "execution_count": 12,
   "id": "1303fc13",
   "metadata": {},
   "outputs": [
    {
     "data": {
      "text/plain": [
       "0    3\n",
       "1    5\n",
       "2    1\n",
       "3    2\n",
       "dtype: int64"
      ]
     },
     "execution_count": 12,
     "metadata": {},
     "output_type": "execute_result"
    }
   ],
   "source": [
    "data1"
   ]
  },
  {
   "cell_type": "code",
   "execution_count": 13,
   "id": "5623e3ae",
   "metadata": {},
   "outputs": [],
   "source": [
    "data1.index = ['a','b','c','d']"
   ]
  },
  {
   "cell_type": "code",
   "execution_count": 14,
   "id": "f5166bb7",
   "metadata": {},
   "outputs": [
    {
     "data": {
      "text/plain": [
       "a    3\n",
       "b    5\n",
       "c    1\n",
       "d    2\n",
       "dtype: int64"
      ]
     },
     "execution_count": 14,
     "metadata": {},
     "output_type": "execute_result"
    }
   ],
   "source": [
    "data1"
   ]
  },
  {
   "cell_type": "code",
   "execution_count": 17,
   "id": "5221c7d3",
   "metadata": {},
   "outputs": [],
   "source": [
    "# data1 = Series([3,5,1,2],['a','b','c','d'])\n",
    "data1 = Series(data=[3,5,1,2],index=['a','b','c','d'])"
   ]
  },
  {
   "cell_type": "code",
   "execution_count": 18,
   "id": "a4e6bdcc",
   "metadata": {},
   "outputs": [
    {
     "data": {
      "text/plain": [
       "a    3\n",
       "b    5\n",
       "c    1\n",
       "d    2\n",
       "dtype: int64"
      ]
     },
     "execution_count": 18,
     "metadata": {},
     "output_type": "execute_result"
    }
   ],
   "source": [
    "data1"
   ]
  },
  {
   "cell_type": "markdown",
   "id": "76cca94e",
   "metadata": {},
   "source": [
    "## 2) Tuple을 사용하여 Series 생성하기"
   ]
  },
  {
   "cell_type": "code",
   "execution_count": 19,
   "id": "2b05e136",
   "metadata": {},
   "outputs": [
    {
     "data": {
      "text/plain": [
       "0    3\n",
       "1    5\n",
       "2    1\n",
       "3    2\n",
       "dtype: int64"
      ]
     },
     "execution_count": 19,
     "metadata": {},
     "output_type": "execute_result"
    }
   ],
   "source": [
    "arr2 = (3,5,1,2) # 튜플 타입의 데이터 생성\n",
    "data2 = Series(arr2)\n",
    "data2"
   ]
  },
  {
   "cell_type": "markdown",
   "id": "88ec3b8c",
   "metadata": {},
   "source": [
    "## 3) Dict 타입의 변수를 사용하여 Series 생성하기"
   ]
  },
  {
   "cell_type": "code",
   "execution_count": 21,
   "id": "54eb65b8",
   "metadata": {},
   "outputs": [
    {
     "data": {
      "text/plain": [
       "a    3\n",
       "b    5\n",
       "c    1\n",
       "d    2\n",
       "dtype: int64"
      ]
     },
     "execution_count": 21,
     "metadata": {},
     "output_type": "execute_result"
    }
   ],
   "source": [
    "arr3 = {\n",
    "    'a':3,\n",
    "    'b':5,\n",
    "    'c':1,\n",
    "    'd':2\n",
    "}# Dict(사전) 타입의 데이터 생성\n",
    "data3 = Series(arr3)\n",
    "data3"
   ]
  },
  {
   "cell_type": "markdown",
   "id": "7da930d2",
   "metadata": {},
   "source": [
    "### ** 몇 가지 Series 특징들 **\n",
    "- Series,values는 numpy의 ndarray 객체입니다."
   ]
  },
  {
   "cell_type": "code",
   "execution_count": 22,
   "id": "1b96f90f",
   "metadata": {},
   "outputs": [
    {
     "data": {
      "text/plain": [
       "a    3\n",
       "b    5\n",
       "c    1\n",
       "d    2\n",
       "dtype: int64"
      ]
     },
     "execution_count": 22,
     "metadata": {},
     "output_type": "execute_result"
    }
   ],
   "source": [
    "data3"
   ]
  },
  {
   "cell_type": "code",
   "execution_count": 23,
   "id": "35cf3059",
   "metadata": {},
   "outputs": [
    {
     "data": {
      "text/plain": [
       "array([3, 5, 1, 2], dtype=int64)"
      ]
     },
     "execution_count": 23,
     "metadata": {},
     "output_type": "execute_result"
    }
   ],
   "source": [
    "# 값만 출력\n",
    "data3.values"
   ]
  },
  {
   "cell_type": "code",
   "execution_count": 25,
   "id": "faaa2e09",
   "metadata": {},
   "outputs": [
    {
     "data": {
      "text/plain": [
       "numpy.ndarray"
      ]
     },
     "execution_count": 25,
     "metadata": {},
     "output_type": "execute_result"
    }
   ],
   "source": [
    "# 타입 확인\n",
    "type(data3.values)"
   ]
  },
  {
   "cell_type": "markdown",
   "id": "f01cd6ce",
   "metadata": {},
   "source": [
    "- 값에는 모든 데이터 타입 사용이 가능합니다."
   ]
  },
  {
   "cell_type": "code",
   "execution_count": 28,
   "id": "6ce16b66",
   "metadata": {},
   "outputs": [
    {
     "data": {
      "text/plain": [
       "0                             big data\n",
       "1                                   10\n",
       "2                                  3.5\n",
       "3                            [1, 2, 3]\n",
       "4                     {'a': 5, 'b': 3}\n",
       "5    0    1\n",
       "1    2\n",
       "2    3\n",
       "dtype: int64\n",
       "dtype: object"
      ]
     },
     "execution_count": 28,
     "metadata": {},
     "output_type": "execute_result"
    }
   ],
   "source": [
    "Series(['big data',10,3.5,[1,2,3],{'a':5,'b':3},Series([1,2,3])])"
   ]
  },
  {
   "cell_type": "markdown",
   "id": "bbfb0bc5",
   "metadata": {},
   "source": [
    "## Series의 속성(Attributes)와 함수(Method)들\n",
    "\n",
    "**샘플 데이터 생성**  \n",
    "값과 Index 인자를 사용하여, Series 생성"
   ]
  },
  {
   "cell_type": "code",
   "execution_count": 5,
   "id": "8b23ab49",
   "metadata": {},
   "outputs": [
    {
     "data": {
      "text/plain": [
       "a     85\n",
       "b     90\n",
       "c     75\n",
       "d     55\n",
       "e     45\n",
       "f     90\n",
       "g     95\n",
       "h     85\n",
       "i     90\n",
       "j    100\n",
       "dtype: int64"
      ]
     },
     "execution_count": 5,
     "metadata": {},
     "output_type": "execute_result"
    }
   ],
   "source": [
    "sample = Series([85,90,75,55,45,90,95,85,90,100],\n",
    "               index = ['a','b','c','d','e','f','g','h','i','j'])\n",
    "sample"
   ]
  },
  {
   "cell_type": "markdown",
   "id": "60c0af5e",
   "metadata": {},
   "source": [
    "### 속성(Attributes) = Series가 가지고 있는 객체, 속성(특징) 혹은 간단한 기능을 제공\n",
    "1) index - Series의 인덱스 (혹은 인덱스 라벨)"
   ]
  },
  {
   "cell_type": "code",
   "execution_count": 31,
   "id": "89484f5f",
   "metadata": {},
   "outputs": [
    {
     "data": {
      "text/plain": [
       "Index(['a', 'b', 'c', 'd', 'e', 'f', 'g', 'h', 'i', 'j'], dtype='object')"
      ]
     },
     "execution_count": 31,
     "metadata": {},
     "output_type": "execute_result"
    }
   ],
   "source": [
    "sample.index"
   ]
  },
  {
   "cell_type": "markdown",
   "id": "47d19118",
   "metadata": {},
   "source": [
    "2) values- Series의 데이터"
   ]
  },
  {
   "cell_type": "code",
   "execution_count": 32,
   "id": "c036aa15",
   "metadata": {},
   "outputs": [
    {
     "data": {
      "text/plain": [
       "array([ 80,  90,  75,  55,  45,  90,  95,  85,  90, 100], dtype=int64)"
      ]
     },
     "execution_count": 32,
     "metadata": {},
     "output_type": "execute_result"
    }
   ],
   "source": [
    "sample.values"
   ]
  },
  {
   "cell_type": "markdown",
   "id": "54ee50c8",
   "metadata": {},
   "source": [
    "3) size- Series의 크기(데이터의 길이)"
   ]
  },
  {
   "cell_type": "code",
   "execution_count": 34,
   "id": "cf255172",
   "metadata": {},
   "outputs": [
    {
     "data": {
      "text/plain": [
       "10"
      ]
     },
     "execution_count": 34,
     "metadata": {},
     "output_type": "execute_result"
    }
   ],
   "source": [
    "# 샘플 Series 항목의 갯수\n",
    "sample.size"
   ]
  },
  {
   "cell_type": "markdown",
   "id": "fe6aa294",
   "metadata": {},
   "source": [
    "4) dtype- Series의 데이터(Series,values)의 데이터 타입\n",
    "- 정수형 숫자 : int64\n",
    "- 실수형 숫자 : float64\n",
    "- 문자열이거나 2개 이상의 데이터 타입으로 이루어진 경우: 'O' (Object)"
   ]
  },
  {
   "cell_type": "code",
   "execution_count": 35,
   "id": "b3fb91e7",
   "metadata": {},
   "outputs": [
    {
     "data": {
      "text/plain": [
       "dtype('int64')"
      ]
     },
     "execution_count": 35,
     "metadata": {},
     "output_type": "execute_result"
    }
   ],
   "source": [
    "sample.dtype"
   ]
  },
  {
   "cell_type": "code",
   "execution_count": 36,
   "id": "03e030cc",
   "metadata": {},
   "outputs": [
    {
     "data": {
      "text/plain": [
       "0    a\n",
       "1    c\n",
       "dtype: object"
      ]
     },
     "execution_count": 36,
     "metadata": {},
     "output_type": "execute_result"
    }
   ],
   "source": [
    "Series(['a','c'])"
   ]
  },
  {
   "cell_type": "code",
   "execution_count": 37,
   "id": "adfb6df2",
   "metadata": {},
   "outputs": [
    {
     "data": {
      "text/plain": [
       "0      3\n",
       "1    5.3\n",
       "2    abc\n",
       "dtype: object"
      ]
     },
     "execution_count": 37,
     "metadata": {},
     "output_type": "execute_result"
    }
   ],
   "source": [
    "Series([3,5.3,'abc'])  # 두 가지의 데이터일 경우 Object"
   ]
  },
  {
   "cell_type": "code",
   "execution_count": 38,
   "id": "31fe581e",
   "metadata": {},
   "outputs": [
    {
     "data": {
      "text/plain": [
       "0    3.0\n",
       "1    5.3\n",
       "dtype: float64"
      ]
     },
     "execution_count": 38,
     "metadata": {},
     "output_type": "execute_result"
    }
   ],
   "source": [
    "Series([3,5.3])"
   ]
  },
  {
   "cell_type": "markdown",
   "id": "cd9ae00d",
   "metadata": {},
   "source": [
    " # Series의 함수\n",
    " ### 함수(Methods) - Series가 제공하는 다양한 기능 활용\n",
    "* 함수 호출 시 전달되는 자료들을 인자(argument, parameter)라고 합니다.\n",
    "* 각 함수들은 정해진 인자들이 있으며, 인자값들을 토대로 함수가 실행됩니다. \n",
    "* 동일한 함수라고 하더라도 인자값을 어떻게 설정하느냐에 따라 동작방식은 달라질 수 있습니다. \n",
    "\n",
    "\n",
    " 1) describe() - 통계 정보를 한 눈에 제공해주는 함수"
   ]
  },
  {
   "cell_type": "code",
   "execution_count": 39,
   "id": "e25110bb",
   "metadata": {},
   "outputs": [
    {
     "data": {
      "text/plain": [
       "count     10.000000\n",
       "mean      80.500000\n",
       "std       17.709069\n",
       "min       45.000000\n",
       "25%       76.250000\n",
       "50%       87.500000\n",
       "75%       90.000000\n",
       "max      100.000000\n",
       "dtype: float64"
      ]
     },
     "execution_count": 39,
     "metadata": {},
     "output_type": "execute_result"
    }
   ],
   "source": [
    "sample.describe()"
   ]
  },
  {
   "cell_type": "markdown",
   "id": "76d618e0",
   "metadata": {},
   "source": [
    " 2) 통계 함수들 - max(),min(),avg(), ..."
   ]
  },
  {
   "cell_type": "code",
   "execution_count": 40,
   "id": "15815e73",
   "metadata": {},
   "outputs": [
    {
     "data": {
      "text/plain": [
       "100"
      ]
     },
     "execution_count": 40,
     "metadata": {},
     "output_type": "execute_result"
    }
   ],
   "source": [
    "sample.max()"
   ]
  },
  {
   "cell_type": "code",
   "execution_count": 41,
   "id": "7216b7c3",
   "metadata": {},
   "outputs": [
    {
     "data": {
      "text/plain": [
       "80.5"
      ]
     },
     "execution_count": 41,
     "metadata": {},
     "output_type": "execute_result"
    }
   ],
   "source": [
    "sample.mean()"
   ]
  },
  {
   "cell_type": "code",
   "execution_count": 42,
   "id": "8f26171d",
   "metadata": {},
   "outputs": [
    {
     "data": {
      "text/plain": [
       "80.5"
      ]
     },
     "execution_count": 42,
     "metadata": {},
     "output_type": "execute_result"
    }
   ],
   "source": [
    "sample.agg('mean')"
   ]
  },
  {
   "cell_type": "markdown",
   "id": "271521e0",
   "metadata": {},
   "source": [
    "3) add_prefix(prefix) - 인덱스 라벨 앞에 prefix 문자열을 추가"
   ]
  },
  {
   "cell_type": "code",
   "execution_count": 43,
   "id": "41275d3f",
   "metadata": {
    "scrolled": true
   },
   "outputs": [
    {
     "data": {
      "text/plain": [
       "data-a     80\n",
       "data-b     90\n",
       "data-c     75\n",
       "data-d     55\n",
       "data-e     45\n",
       "data-f     90\n",
       "data-g     95\n",
       "data-h     85\n",
       "data-i     90\n",
       "data-j    100\n",
       "dtype: int64"
      ]
     },
     "execution_count": 43,
     "metadata": {},
     "output_type": "execute_result"
    }
   ],
   "source": [
    "sample.add_prefix('data-')"
   ]
  },
  {
   "cell_type": "code",
   "execution_count": 44,
   "id": "35b05485",
   "metadata": {
    "scrolled": true
   },
   "outputs": [
    {
     "data": {
      "text/plain": [
       "a     80\n",
       "b     90\n",
       "c     75\n",
       "d     55\n",
       "e     45\n",
       "f     90\n",
       "g     95\n",
       "h     85\n",
       "i     90\n",
       "j    100\n",
       "dtype: int64"
      ]
     },
     "execution_count": 44,
     "metadata": {},
     "output_type": "execute_result"
    }
   ],
   "source": [
    "# 원본에 반영 되지 않는다\n",
    "sample "
   ]
  },
  {
   "cell_type": "code",
   "execution_count": 45,
   "id": "65803f18",
   "metadata": {},
   "outputs": [],
   "source": [
    "# 원본에 반영하고 싶다면\n",
    "sample2= sample.add_prefix('data-')"
   ]
  },
  {
   "cell_type": "code",
   "execution_count": 46,
   "id": "761d0b43",
   "metadata": {},
   "outputs": [
    {
     "data": {
      "text/plain": [
       "data-a     80\n",
       "data-b     90\n",
       "data-c     75\n",
       "data-d     55\n",
       "data-e     45\n",
       "data-f     90\n",
       "data-g     95\n",
       "data-h     85\n",
       "data-i     90\n",
       "data-j    100\n",
       "dtype: int64"
      ]
     },
     "execution_count": 46,
     "metadata": {},
     "output_type": "execute_result"
    }
   ],
   "source": [
    "sample2"
   ]
  },
  {
   "cell_type": "markdown",
   "id": "ac682153",
   "metadata": {},
   "source": [
    "4) value_counts() - Series에 있는 데이터 값들의 개수"
   ]
  },
  {
   "cell_type": "code",
   "execution_count": 47,
   "id": "58ba38ff",
   "metadata": {},
   "outputs": [
    {
     "data": {
      "text/plain": [
       "90     3\n",
       "80     1\n",
       "100    1\n",
       "85     1\n",
       "55     1\n",
       "75     1\n",
       "45     1\n",
       "95     1\n",
       "dtype: int64"
      ]
     },
     "execution_count": 47,
     "metadata": {},
     "output_type": "execute_result"
    }
   ],
   "source": [
    "sample.value_counts()"
   ]
  },
  {
   "cell_type": "markdown",
   "id": "c4b33e7c",
   "metadata": {},
   "source": [
    "5) add(값) - Series의 데이터 각각에 값을 더하기"
   ]
  },
  {
   "cell_type": "code",
   "execution_count": 48,
   "id": "c40fe820",
   "metadata": {},
   "outputs": [
    {
     "data": {
      "text/plain": [
       "a    180\n",
       "b    190\n",
       "c    175\n",
       "d    155\n",
       "e    145\n",
       "f    190\n",
       "g    195\n",
       "h    185\n",
       "i    190\n",
       "j    200\n",
       "dtype: int64"
      ]
     },
     "execution_count": 48,
     "metadata": {},
     "output_type": "execute_result"
    }
   ],
   "source": [
    "sample.add(100)"
   ]
  },
  {
   "cell_type": "markdown",
   "id": "d78eb191",
   "metadata": {},
   "source": [
    "**[Mini Quiz #1]** 앞에 5개의 데이터에는 5를 더하고, 나머지 5개의 데이터에는 10을 더하시오."
   ]
  },
  {
   "cell_type": "code",
   "execution_count": 51,
   "id": "c50a01a8",
   "metadata": {},
   "outputs": [
    {
     "data": {
      "text/plain": [
       "a     85\n",
       "b     95\n",
       "c     80\n",
       "d     60\n",
       "e     50\n",
       "f    100\n",
       "g    105\n",
       "h     95\n",
       "i    100\n",
       "j    110\n",
       "dtype: int64"
      ]
     },
     "execution_count": 51,
     "metadata": {},
     "output_type": "execute_result"
    }
   ],
   "source": [
    "sample.add([5,5,5,5,5,10,10,10,10,10])"
   ]
  },
  {
   "cell_type": "markdown",
   "id": "ddc6324e",
   "metadata": {},
   "source": [
    "6) append(series) - 인자로 받은 series를 기존 series 뒤에 이어 붙여서 하나의 series로 만든다."
   ]
  },
  {
   "cell_type": "code",
   "execution_count": 55,
   "id": "862a2cf5",
   "metadata": {},
   "outputs": [
    {
     "data": {
      "text/plain": [
       "m    80\n",
       "dtype: int64"
      ]
     },
     "execution_count": 55,
     "metadata": {},
     "output_type": "execute_result"
    }
   ],
   "source": [
    "sr = Series(80,index=['m'])\n",
    "sr"
   ]
  },
  {
   "cell_type": "code",
   "execution_count": 56,
   "id": "b6906344",
   "metadata": {
    "scrolled": true
   },
   "outputs": [
    {
     "data": {
      "text/plain": [
       "a     80\n",
       "b     90\n",
       "c     75\n",
       "d     55\n",
       "e     45\n",
       "f     90\n",
       "g     95\n",
       "h     85\n",
       "i     90\n",
       "j    100\n",
       "m     80\n",
       "dtype: int64"
      ]
     },
     "execution_count": 56,
     "metadata": {},
     "output_type": "execute_result"
    }
   ],
   "source": [
    "sample.append(sr)"
   ]
  },
  {
   "cell_type": "markdown",
   "id": "02247f69",
   "metadata": {},
   "source": [
    "7) isin(val_list) - Series에 있는 각각의 데이터들이 val_list에 포함되어 있는지 여부를 확인"
   ]
  },
  {
   "cell_type": "code",
   "execution_count": 7,
   "id": "1a2275f8",
   "metadata": {},
   "outputs": [
    {
     "data": {
      "text/plain": [
       "a     True\n",
       "b    False\n",
       "c    False\n",
       "d    False\n",
       "e    False\n",
       "f    False\n",
       "g    False\n",
       "h     True\n",
       "i    False\n",
       "j    False\n",
       "dtype: bool"
      ]
     },
     "execution_count": 7,
     "metadata": {},
     "output_type": "execute_result"
    }
   ],
   "source": [
    "sample.isin([85])"
   ]
  },
  {
   "cell_type": "code",
   "execution_count": 8,
   "id": "386890de",
   "metadata": {},
   "outputs": [
    {
     "data": {
      "text/plain": [
       "a     True\n",
       "b     True\n",
       "c    False\n",
       "d    False\n",
       "e    False\n",
       "f     True\n",
       "g    False\n",
       "h     True\n",
       "i     True\n",
       "j    False\n",
       "dtype: bool"
      ]
     },
     "execution_count": 8,
     "metadata": {},
     "output_type": "execute_result"
    }
   ],
   "source": [
    "# data가 [85,90]에 포함여부 출력\n",
    "sample.isin([85,90])"
   ]
  },
  {
   "cell_type": "markdown",
   "id": "a7a1d3a8",
   "metadata": {},
   "source": [
    "**[Mini Quiz #2]** sample 데이터 내에 80이 있는지 확인하여 있으면 True, 없으면 False를 출력"
   ]
  },
  {
   "cell_type": "code",
   "execution_count": 12,
   "id": "4f8f1270",
   "metadata": {},
   "outputs": [
    {
     "data": {
      "text/plain": [
       "False"
      ]
     },
     "execution_count": 12,
     "metadata": {},
     "output_type": "execute_result"
    }
   ],
   "source": [
    "80 in sample.values"
   ]
  },
  {
   "cell_type": "markdown",
   "id": "38d18ee0",
   "metadata": {},
   "source": [
    "**[Mini Quiz #3]** sample의 인덱스 내에 'h'가 있는지 확인하여 있으면 True, 없으면 False를 출력"
   ]
  },
  {
   "cell_type": "code",
   "execution_count": 15,
   "id": "a4a6051b",
   "metadata": {},
   "outputs": [
    {
     "data": {
      "text/plain": [
       "True"
      ]
     },
     "execution_count": 15,
     "metadata": {},
     "output_type": "execute_result"
    }
   ],
   "source": [
    "'h' in sample.index"
   ]
  },
  {
   "cell_type": "markdown",
   "id": "1447771e",
   "metadata": {},
   "source": [
    "8) apply(func) - Series의 값에 func 함수를 적용"
   ]
  },
  {
   "cell_type": "code",
   "execution_count": 16,
   "id": "5d321edc",
   "metadata": {},
   "outputs": [],
   "source": [
    "# 80 이상이면 Good, 80 미만이면 Bad로 변경하는 함수\n",
    "def get_grade(val):\n",
    "    if val>=80:\n",
    "        return 'Good'\n",
    "    else:\n",
    "        return 'Bad'"
   ]
  },
  {
   "cell_type": "code",
   "execution_count": 17,
   "id": "fc1e3501",
   "metadata": {},
   "outputs": [
    {
     "data": {
      "text/plain": [
       "a    Good\n",
       "b    Good\n",
       "c     Bad\n",
       "d     Bad\n",
       "e     Bad\n",
       "f    Good\n",
       "g    Good\n",
       "h    Good\n",
       "i    Good\n",
       "j    Good\n",
       "dtype: object"
      ]
     },
     "execution_count": 17,
     "metadata": {},
     "output_type": "execute_result"
    }
   ],
   "source": [
    "sample.apply(get_grade)"
   ]
  },
  {
   "cell_type": "code",
   "execution_count": 19,
   "id": "02c236e7",
   "metadata": {},
   "outputs": [
    {
     "data": {
      "text/plain": [
       "a    Good\n",
       "b    Good\n",
       "c     Bad\n",
       "d     Bad\n",
       "e     Bad\n",
       "f    Good\n",
       "g    Good\n",
       "h    Good\n",
       "i    Good\n",
       "j    Good\n",
       "dtype: object"
      ]
     },
     "execution_count": 19,
     "metadata": {},
     "output_type": "execute_result"
    }
   ],
   "source": [
    "# 익명함수(람다 함수) 활용\n",
    "sample.apply(lambda val: 'Good' if val>=80 else 'Bad')"
   ]
  },
  {
   "cell_type": "markdown",
   "id": "5f28faa6",
   "metadata": {},
   "source": [
    "# Indexing\n",
    "## Series 인덱싱 - 원하는 데이터만 선택하기\n",
    "1) 특정 인덱스 선택하기\n",
    "- 숫자 인덱스와 인덱스 라벨 모두 가능"
   ]
  },
  {
   "cell_type": "code",
   "execution_count": 21,
   "id": "23b81ee5",
   "metadata": {},
   "outputs": [
    {
     "data": {
      "text/plain": [
       "75"
      ]
     },
     "execution_count": 21,
     "metadata": {},
     "output_type": "execute_result"
    }
   ],
   "source": [
    "# 숫자 인덱스\n",
    "sample[2]"
   ]
  },
  {
   "cell_type": "code",
   "execution_count": 22,
   "id": "24e11d22",
   "metadata": {},
   "outputs": [
    {
     "data": {
      "text/plain": [
       "75"
      ]
     },
     "execution_count": 22,
     "metadata": {},
     "output_type": "execute_result"
    }
   ],
   "source": [
    "# 인덱스 라벨로 선택 가능\n",
    "sample['c']"
   ]
  },
  {
   "cell_type": "markdown",
   "id": "40a19c5e",
   "metadata": {},
   "source": [
    "2) 여러 인덱스를 동시에 선택하기\n",
    "- 선택하고자 하는 인덱스 목록을 리스트(List,[])로 전달"
   ]
  },
  {
   "cell_type": "code",
   "execution_count": 31,
   "id": "94123396",
   "metadata": {},
   "outputs": [
    {
     "data": {
      "text/plain": [
       "c    75\n",
       "e    45\n",
       "g    95\n",
       "dtype: int64"
      ]
     },
     "execution_count": 31,
     "metadata": {},
     "output_type": "execute_result"
    }
   ],
   "source": [
    "# 3,5,7번째 데이터를 선택하기\n",
    "sample[[2,4,6]]"
   ]
  },
  {
   "cell_type": "code",
   "execution_count": 30,
   "id": "ee61b250",
   "metadata": {},
   "outputs": [
    {
     "data": {
      "text/plain": [
       "c    75\n",
       "d    55\n",
       "e    45\n",
       "f    90\n",
       "g    95\n",
       "dtype: int64"
      ]
     },
     "execution_count": 30,
     "metadata": {},
     "output_type": "execute_result"
    }
   ],
   "source": [
    "# c부터 g까지의 데이터 선택\n",
    "sample[[2,3,4,5,6]]"
   ]
  },
  {
   "cell_type": "code",
   "execution_count": 29,
   "id": "1da36d80",
   "metadata": {},
   "outputs": [
    {
     "data": {
      "text/plain": [
       "a     85\n",
       "b     90\n",
       "c     75\n",
       "d     55\n",
       "e     45\n",
       "f     90\n",
       "g     95\n",
       "h     85\n",
       "i     90\n",
       "j    100\n",
       "dtype: int64"
      ]
     },
     "execution_count": 29,
     "metadata": {},
     "output_type": "execute_result"
    }
   ],
   "source": [
    "sample"
   ]
  },
  {
   "cell_type": "markdown",
   "id": "b47a536a",
   "metadata": {},
   "source": [
    "3)인덱스 슬라이싱 - 주어진 범위에 해당하는 데이터 선택\n",
    "- start idx와 end idx는 생략이 가능\n",
    "- start idx를 생략 -> 맨 첫 데이터부터 선택\n",
    "- end idx를 생략 -> 데이터 끝까지 선택"
   ]
  },
  {
   "cell_type": "code",
   "execution_count": 38,
   "id": "86c1394c",
   "metadata": {},
   "outputs": [
    {
     "data": {
      "text/plain": [
       "c    75\n",
       "d    55\n",
       "e    45\n",
       "f    90\n",
       "g    95\n",
       "dtype: int64"
      ]
     },
     "execution_count": 38,
     "metadata": {},
     "output_type": "execute_result"
    }
   ],
   "source": [
    "# 숫자 인데스 일 경우 마지막 숫자 -1\n",
    "sample[2:7]"
   ]
  },
  {
   "cell_type": "code",
   "execution_count": 37,
   "id": "b019a650",
   "metadata": {},
   "outputs": [
    {
     "data": {
      "text/plain": [
       "c    75\n",
       "d    55\n",
       "e    45\n",
       "f    90\n",
       "g    95\n",
       "dtype: int64"
      ]
     },
     "execution_count": 37,
     "metadata": {},
     "output_type": "execute_result"
    }
   ],
   "source": [
    "sample['c':'g']"
   ]
  },
  {
   "cell_type": "code",
   "execution_count": 41,
   "id": "15b9a862",
   "metadata": {},
   "outputs": [
    {
     "data": {
      "text/plain": [
       "h     85\n",
       "i     90\n",
       "j    100\n",
       "dtype: int64"
      ]
     },
     "execution_count": 41,
     "metadata": {},
     "output_type": "execute_result"
    }
   ],
   "source": [
    "# sample의 맨 뒤에 있는 3개의 데이터 선택\n",
    "sample[-3:]"
   ]
  },
  {
   "cell_type": "code",
   "execution_count": 42,
   "id": "ab84b714",
   "metadata": {},
   "outputs": [
    {
     "data": {
      "text/plain": [
       "h     85\n",
       "i     90\n",
       "j    100\n",
       "dtype: int64"
      ]
     },
     "execution_count": 42,
     "metadata": {},
     "output_type": "execute_result"
    }
   ],
   "source": [
    "# sample의 맨 뒤에 있는 3개의 데이터 선택\n",
    "sample[7:10]\n",
    "sample[7:]\n",
    "sample[-3:]"
   ]
  },
  {
   "cell_type": "markdown",
   "id": "83e58e68",
   "metadata": {},
   "source": [
    "4) 조건 색인(불리언 색인) : 조건을 활용한 인덱스 선택\n",
    "- 조건에 충족하는 데이터만 선택하는 방법\n",
    "- 매우 많이 활용되므로, 꼭 알고 있어야 함!"
   ]
  },
  {
   "cell_type": "code",
   "execution_count": 43,
   "id": "a17e0fcb",
   "metadata": {},
   "outputs": [],
   "source": [
    "boolean_idx = [False, False, False, False, False, \n",
    "               True, True, True, True, True]"
   ]
  },
  {
   "cell_type": "code",
   "execution_count": 45,
   "id": "976f56d8",
   "metadata": {},
   "outputs": [
    {
     "data": {
      "text/plain": [
       "f     90\n",
       "g     95\n",
       "h     85\n",
       "i     90\n",
       "j    100\n",
       "dtype: int64"
      ]
     },
     "execution_count": 45,
     "metadata": {},
     "output_type": "execute_result"
    }
   ],
   "source": [
    "# True 인 데이터만 선택 됨\n",
    "sample[boolean_idx]"
   ]
  },
  {
   "cell_type": "markdown",
   "id": "09164295",
   "metadata": {},
   "source": [
    "- boolean index를 조건을 통해 생성할 수 있다. "
   ]
  },
  {
   "cell_type": "code",
   "execution_count": 46,
   "id": "c39378ab",
   "metadata": {},
   "outputs": [
    {
     "data": {
      "text/plain": [
       "a    False\n",
       "b     True\n",
       "c    False\n",
       "d    False\n",
       "e    False\n",
       "f     True\n",
       "g     True\n",
       "h    False\n",
       "i     True\n",
       "j     True\n",
       "dtype: bool"
      ]
     },
     "execution_count": 46,
     "metadata": {},
     "output_type": "execute_result"
    }
   ],
   "source": [
    "sample >=90"
   ]
  },
  {
   "cell_type": "code",
   "execution_count": 47,
   "id": "664f3dac",
   "metadata": {},
   "outputs": [
    {
     "data": {
      "text/plain": [
       "b     90\n",
       "f     90\n",
       "g     95\n",
       "i     90\n",
       "j    100\n",
       "dtype: int64"
      ]
     },
     "execution_count": 47,
     "metadata": {},
     "output_type": "execute_result"
    }
   ],
   "source": [
    "# True 데이터만 출력됨\n",
    "sample[sample >=90]"
   ]
  },
  {
   "cell_type": "markdown",
   "id": "1e655632",
   "metadata": {},
   "source": [
    "<b>[Mini Quiz #4]</b> sample 데이터의 평균값보다 큰 데이터만 선택"
   ]
  },
  {
   "cell_type": "code",
   "execution_count": 53,
   "id": "1d35fe5a",
   "metadata": {},
   "outputs": [
    {
     "data": {
      "text/plain": [
       "81.0"
      ]
     },
     "execution_count": 53,
     "metadata": {},
     "output_type": "execute_result"
    }
   ],
   "source": [
    "# 1) 평균값 구하기\n",
    "sample.mean()"
   ]
  },
  {
   "cell_type": "code",
   "execution_count": 55,
   "id": "a4b70a12",
   "metadata": {},
   "outputs": [],
   "source": [
    "# 2) 불리언 인덱스 생성\n",
    "bool_idx=sample>sample.mean()"
   ]
  },
  {
   "cell_type": "code",
   "execution_count": 57,
   "id": "85866b44",
   "metadata": {},
   "outputs": [
    {
     "data": {
      "text/plain": [
       "a     85\n",
       "b     90\n",
       "f     90\n",
       "g     95\n",
       "h     85\n",
       "i     90\n",
       "j    100\n",
       "dtype: int64"
      ]
     },
     "execution_count": 57,
     "metadata": {},
     "output_type": "execute_result"
    }
   ],
   "source": [
    "#3) 색인 기호에 넣기\n",
    "sample[bool_idx]"
   ]
  },
  {
   "cell_type": "code",
   "execution_count": 58,
   "id": "7ce1b12d",
   "metadata": {},
   "outputs": [
    {
     "data": {
      "text/plain": [
       "a     85\n",
       "b     90\n",
       "f     90\n",
       "g     95\n",
       "h     85\n",
       "i     90\n",
       "j    100\n",
       "dtype: int64"
      ]
     },
     "execution_count": 58,
     "metadata": {},
     "output_type": "execute_result"
    }
   ],
   "source": [
    "sample[sample>sample.mean()]"
   ]
  },
  {
   "cell_type": "markdown",
   "id": "f72ffb72",
   "metadata": {},
   "source": [
    "<b>[Mini Quiz #5]</b> sample의 값이 50과 80 사이의 데이터만 선택"
   ]
  },
  {
   "cell_type": "code",
   "execution_count": 67,
   "id": "5cb268a3",
   "metadata": {},
   "outputs": [
    {
     "data": {
      "text/plain": [
       "c    75\n",
       "d    55\n",
       "dtype: int64"
      ]
     },
     "execution_count": 67,
     "metadata": {},
     "output_type": "execute_result"
    }
   ],
   "source": [
    "sample[(sample>=50) & (sample<=80)]"
   ]
  },
  {
   "cell_type": "markdown",
   "id": "719c9ca8",
   "metadata": {},
   "source": [
    "=============================================================\n",
    "# 실습 문제 "
   ]
  },
  {
   "cell_type": "code",
   "execution_count": 68,
   "id": "f2ac2244",
   "metadata": {},
   "outputs": [],
   "source": [
    "import random"
   ]
  },
  {
   "cell_type": "code",
   "execution_count": 71,
   "id": "1fcec620",
   "metadata": {
    "collapsed": true
   },
   "outputs": [
    {
     "data": {
      "text/plain": [
       "A     7\n",
       "B    84\n",
       "C    44\n",
       "D    40\n",
       "E    83\n",
       "F    20\n",
       "G    53\n",
       "H    32\n",
       "I    28\n",
       "J    71\n",
       "K    92\n",
       "L    14\n",
       "M    98\n",
       "N    81\n",
       "O    15\n",
       "P    76\n",
       "Q    70\n",
       "R    10\n",
       "S    65\n",
       "T    52\n",
       "U    73\n",
       "V    88\n",
       "W    99\n",
       "X    47\n",
       "Y    23\n",
       "Z    58\n",
       "dtype: int64"
      ]
     },
     "execution_count": 71,
     "metadata": {},
     "output_type": "execute_result"
    }
   ],
   "source": [
    "# 실습 데이터 생성\n",
    "sample = random.sample(range(1,100),26) # 1~100사이의 값을 26개 생성하여 list로 반환\n",
    "data = Series(sample, index = list('ABCDEFGHIJKLMNOPQRSTUVWXYZ'))\n",
    "data"
   ]
  },
  {
   "cell_type": "code",
   "execution_count": 74,
   "id": "542e720b",
   "metadata": {},
   "outputs": [
    {
     "data": {
      "text/plain": [
       "92"
      ]
     },
     "execution_count": 74,
     "metadata": {},
     "output_type": "execute_result"
    }
   ],
   "source": [
    "# 1) 인덱스 라벨이 'K' 항목의 값 출력\n",
    "data['K']"
   ]
  },
  {
   "cell_type": "code",
   "execution_count": 76,
   "id": "acb8a171",
   "metadata": {},
   "outputs": [
    {
     "data": {
      "text/plain": [
       "A     7\n",
       "F    20\n",
       "C    44\n",
       "dtype: int64"
      ]
     },
     "execution_count": 76,
     "metadata": {},
     "output_type": "execute_result"
    }
   ],
   "source": [
    "# 2) 인덱스 라벨이 'A','F','C' 항목의 값 출력\n",
    "data[['A','F','C']]"
   ]
  },
  {
   "cell_type": "code",
   "execution_count": 78,
   "id": "198c5731",
   "metadata": {},
   "outputs": [
    {
     "data": {
      "text/plain": [
       "F    20\n",
       "G    53\n",
       "H    32\n",
       "I    28\n",
       "J    71\n",
       "K    92\n",
       "L    14\n",
       "M    98\n",
       "N    81\n",
       "O    15\n",
       "P    76\n",
       "dtype: int64"
      ]
     },
     "execution_count": 78,
     "metadata": {},
     "output_type": "execute_result"
    }
   ],
   "source": [
    "# 3) 5번 인덱스부터 15번 인덱스까지의 항목 출력\n",
    "data[5:16]"
   ]
  },
  {
   "cell_type": "code",
   "execution_count": 80,
   "id": "72d0ca86",
   "metadata": {},
   "outputs": [
    {
     "data": {
      "text/plain": [
       "V    88\n",
       "W    99\n",
       "X    47\n",
       "Y    23\n",
       "Z    58\n",
       "dtype: int64"
      ]
     },
     "execution_count": 80,
     "metadata": {},
     "output_type": "execute_result"
    }
   ],
   "source": [
    "# 4) 뒤에서 5개 항목 출력\n",
    "data[-5:]"
   ]
  },
  {
   "cell_type": "code",
   "execution_count": 82,
   "id": "32b9243b",
   "metadata": {},
   "outputs": [
    {
     "data": {
      "text/plain": [
       "26"
      ]
     },
     "execution_count": 82,
     "metadata": {},
     "output_type": "execute_result"
    }
   ],
   "source": [
    "# 5) data의 항목의 갯수를 출력\n",
    "data.count()"
   ]
  },
  {
   "cell_type": "code",
   "execution_count": 83,
   "id": "42edec9c",
   "metadata": {},
   "outputs": [
    {
     "data": {
      "text/plain": [
       "B    84\n",
       "E    83\n",
       "J    71\n",
       "K    92\n",
       "M    98\n",
       "N    81\n",
       "P    76\n",
       "Q    70\n",
       "S    65\n",
       "U    73\n",
       "V    88\n",
       "W    99\n",
       "Z    58\n",
       "dtype: int64"
      ]
     },
     "execution_count": 83,
     "metadata": {},
     "output_type": "execute_result"
    }
   ],
   "source": [
    "# 6) data 항목 값들의 평균보다 큰 항목만 출력 \n",
    "## Hint. data 항목 값들의 평균은 data.mean()으로 구할 수 있다.\n",
    "data[data>data.mean()]"
   ]
  },
  {
   "cell_type": "code",
   "execution_count": 103,
   "id": "e2f5497b",
   "metadata": {},
   "outputs": [
    {
     "data": {
      "text/plain": [
       "False"
      ]
     },
     "execution_count": 103,
     "metadata": {},
     "output_type": "execute_result"
    }
   ],
   "source": [
    "# 7) data의 항목 값 중에 50이 있는지 확인하여, 있으면 True, 없으면 False를 출력\n",
    "50 in data.values"
   ]
  },
  {
   "cell_type": "code",
   "execution_count": 124,
   "id": "9c7f10dd",
   "metadata": {},
   "outputs": [
    {
     "name": "stdout",
     "output_type": "stream",
     "text": [
      "index:A, value:7\n",
      "index:B, value:84\n",
      "index:C, value:44\n"
     ]
    }
   ],
   "source": [
    "# 8) data의 인덱스 라벨과 각 항목 값을 아래와 같이 출력\n",
    "# index: A, value: XX\n",
    "# index: B, value: XX\n",
    "# index: C, value: XX\n",
    "\n",
    "for i in range(3):\n",
    "    print(\"index:%s, value:%s\"%(data.index[i],data.values[i]))"
   ]
  }
 ],
 "metadata": {
  "kernelspec": {
   "display_name": "Python 3",
   "language": "python",
   "name": "python3"
  },
  "language_info": {
   "codemirror_mode": {
    "name": "ipython",
    "version": 3
   },
   "file_extension": ".py",
   "mimetype": "text/x-python",
   "name": "python",
   "nbconvert_exporter": "python",
   "pygments_lexer": "ipython3",
   "version": "3.8.8"
  }
 },
 "nbformat": 4,
 "nbformat_minor": 5
}
